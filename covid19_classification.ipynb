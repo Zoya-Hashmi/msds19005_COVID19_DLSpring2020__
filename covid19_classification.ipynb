{
  "nbformat": 4,
  "nbformat_minor": 0,
  "metadata": {
    "colab": {
      "name": "Copy of covid_vgg_retraining.ipynb",
      "provenance": [],
      "collapsed_sections": [],
      "toc_visible": true
    },
    "kernelspec": {
      "display_name": "Python 3",
      "language": "python",
      "name": "python3"
    },
    "language_info": {
      "codemirror_mode": {
        "name": "ipython",
        "version": 3
      },
      "file_extension": ".py",
      "mimetype": "text/x-python",
      "name": "python",
      "nbconvert_exporter": "python",
      "pygments_lexer": "ipython3",
      "version": "3.7.3"
    },
    "accelerator": "GPU"
  },
  "cells": [
    {
      "cell_type": "code",
      "metadata": {
        "id": "npT-35Tsr7wB",
        "colab_type": "code",
        "colab": {}
      },
      "source": [
        "from google.colab import drive\n",
        "drive.mount('/content/drive')"
      ],
      "execution_count": 0,
      "outputs": []
    },
    {
      "cell_type": "markdown",
      "metadata": {
        "id": "4gGz1wgZMPtI",
        "colab_type": "text"
      },
      "source": [
        "## IMPORTING LIBRARIES"
      ]
    },
    {
      "cell_type": "code",
      "metadata": {
        "colab_type": "code",
        "id": "Iz5mTvUoeEPL",
        "colab": {}
      },
      "source": [
        "import torch\n",
        "import torch.nn as nn\n",
        "import torch.optim as optim\n",
        "from torch.optim import lr_scheduler\n",
        "from torch.autograd import Variable\n",
        "import numpy as np\n",
        "import torchvision\n",
        "from torchvision import datasets, models, transforms\n",
        "import matplotlib.pyplot as plt\n",
        "import time\n",
        "import os\n",
        "import copy"
      ],
      "execution_count": 0,
      "outputs": []
    },
    {
      "cell_type": "markdown",
      "metadata": {
        "id": "LcJBygK7MaS5",
        "colab_type": "text"
      },
      "source": [
        "## DATALOADER"
      ]
    },
    {
      "cell_type": "markdown",
      "metadata": {
        "colab_type": "text",
        "id": "rmWAqcDJeEPO"
      },
      "source": [
        "### LOAD/DOWNLOAD DATASET"
      ]
    },
    {
      "cell_type": "code",
      "metadata": {
        "colab_type": "code",
        "id": "V91vwYG4eEPO",
        "colab": {}
      },
      "source": [
        "! cp -r '/content/drive/My Drive/Assignment 5 Dataset'\n",
        "\n",
        "# !gdown https://drive.google.com/uc?id=1j9bZ2drKlr_btZEBR-melf2RHUWhAPSv\n",
        "# !unzip /content/Assignment5Data.zip \n",
        "\n",
        "data_dir = '/content/Assignment 5 Dataset'\n"
      ],
      "execution_count": 0,
      "outputs": []
    },
    {
      "cell_type": "markdown",
      "metadata": {
        "id": "BjfYtCKLgQz-",
        "colab_type": "text"
      },
      "source": [
        "### Calculating Mean and Std for Normalizing Images"
      ]
    },
    {
      "cell_type": "code",
      "metadata": {
        "id": "-6h1rqI6gQhS",
        "colab_type": "code",
        "colab": {}
      },
      "source": [
        "# train_data = datasets.ImageFolder(data_dir + '/train', transform=transforms.ToTensor())\n",
        "\n",
        "# mean = torch.zeros(size=(1,3))\n",
        "# meansq = torch.zeros(size=(1,3))\n",
        "# # meansq = \n",
        "# for data,_ in train_data:\n",
        "#   mean += data.mean([1,2])\n",
        "#   meansq += data.pow(2).mean([1,2])\n",
        "\n",
        "# mean = mean/len(train_data)\n",
        "# meansq = meansq/len(train_data)\n",
        "# std = torch.sqrt(meansq-mean.pow(2))\n",
        "# print(mean)\n",
        "# print(std)\n",
        "\n",
        "# tensor([[0.4905, 0.4905, 0.4906]])\n",
        "# tensor([[0.2494, 0.2494, 0.2494]])\n"
      ],
      "execution_count": 0,
      "outputs": []
    },
    {
      "cell_type": "markdown",
      "metadata": {
        "id": "MTVO6w0OOZsM",
        "colab_type": "text"
      },
      "source": [
        "### DATALOADER"
      ]
    },
    {
      "cell_type": "code",
      "metadata": {
        "colab_type": "code",
        "id": "T-hfjELPeEPR",
        "colab": {}
      },
      "source": [
        "#Define transforms for the training data and testing data\n",
        "train_transforms = transforms.Compose([transforms.RandomRotation(30),\n",
        "                                       transforms.Resize(256),\n",
        "                                       transforms.CenterCrop(224),\n",
        "                                       transforms.RandomHorizontalFlip(),\n",
        "                                       transforms.ToTensor(),\n",
        "                                       transforms.Normalize([0.4905, 0.4905, 0.4906],\n",
        "                                                            [0.2494, 0.2494, 0.2494])])\n",
        "\n",
        "test_transforms = transforms.Compose([transforms.Resize(256),\n",
        "                                      transforms.CenterCrop(224),\n",
        "                                      transforms.ToTensor(),\n",
        "                                      transforms.Normalize([0.4905, 0.4905, 0.4906],\n",
        "                                                           [0.2494, 0.2494, 0.2494])])\n",
        "\n",
        "\n",
        "#pass transform here-in\n",
        "train_data = datasets.ImageFolder(data_dir + '/train', transform=train_transforms)\n",
        "val_data = datasets.ImageFolder(data_dir + '/validation', transform=test_transforms)\n",
        "test_data = datasets.ImageFolder(data_dir + '/test', transform=test_transforms)\n",
        "\n",
        "#data loaders\n",
        "batch_size =32\n",
        "trainloader = torch.utils.data.DataLoader(train_data, batch_size=batch_size, shuffle=True)\n",
        "valloader = torch.utils.data.DataLoader(val_data, batch_size=batch_size, shuffle=True)\n",
        "testloader = torch.utils.data.DataLoader(test_data, batch_size=batch_size, shuffle=True)\n",
        "\n",
        "\n",
        "\n",
        "print(\"Classes: \")\n",
        "class_names = train_data.classes\n",
        "print(class_names)"
      ],
      "execution_count": 0,
      "outputs": []
    },
    {
      "cell_type": "code",
      "metadata": {
        "colab_type": "code",
        "id": "92RE4_WFeEPU",
        "colab": {}
      },
      "source": [
        "def imshow(inp, title=None):\n",
        "    inp = inp.numpy().transpose((1, 2, 0))\n",
        "    plt.axis('off')\n",
        "    plt.imshow(inp)\n",
        "    if title is not None:\n",
        "        plt.title(title)\n",
        "    plt.pause(0.001)\n",
        "\n",
        "def show_databatch(inputs, classes):\n",
        "    out = torchvision.utils.make_grid(inputs)\n",
        "    imshow(out, title=[class_names[x] for x in classes])\n",
        "\n",
        "# Get a batch of training data\n",
        "inputs, classes = next(iter(trainloader))\n",
        "show_databatch(inputs, classes)"
      ],
      "execution_count": 0,
      "outputs": []
    },
    {
      "cell_type": "markdown",
      "metadata": {
        "colab_type": "text",
        "id": "b2HLXeDKeEPX"
      },
      "source": [
        "## LOAD MODEL"
      ]
    },
    {
      "cell_type": "code",
      "metadata": {
        "colab_type": "code",
        "id": "PkWdk-bKeEPY",
        "colab": {}
      },
      "source": [
        "def initialize_model(model,freeze):\n",
        "    if model == 'res18':\n",
        "        res18 = models.resnet18(pretrained=True)\n",
        "        fc1_in = res18.fc.in_features\n",
        "\n",
        "        if freeze == 'all':\n",
        "            for param in res18.parameters():\n",
        "                param.requires_grad=False\n",
        "        elif freeze == 'partial':\n",
        "            for param in list(res18.parameters())[:-17]:\n",
        "                param.requires_grad=False\n",
        "        elif freeze == 'none':\n",
        "            pass\n",
        "\n",
        "\n",
        "    elif model == 'vgg16':\n",
        "        vgg16 == models.vgg16(pretrained=True)\n",
        "        fc1_in = vgg16.classifier[0].in_features\n",
        "\n",
        "        if freeze == 'all':\n",
        "            for param in vgg16.features.parameters():\n",
        "                param.requires_grad = False\n",
        "        elif freeze == 'partial':\n",
        "            for param in list(vgg16.features.parameters())[:-6]:\n",
        "                param.requires_grad = False\n",
        "        elif freeze == 'none':\n",
        "            pass\n",
        "\n",
        "\n",
        "    fc1_out = 5*10+100\n",
        "    fc2_in = fc1_out\n",
        "    fc2_out = 2\n",
        "    features = [nn.Linear(fc1_in,fc1_out,bias=True),nn.ReLU(inplace=True),nn.Dropout(p=0.5,inplace=False),nn.Linear(fc2_in,fc2_out,bias=True)]\n",
        "\n",
        "    if model=='res18':\n",
        "        res18.fc = nn.Sequential(*features)\n",
        "        return res18\n",
        "    if model == 'vgg16':\n",
        "        vgg16.classifier = nn.Sequential(*features)\n",
        "        if pretarined_weights != None:\n",
        "          vgg16.load_state_dict(torch.load(pretrained_weights)['state_dict'])\n",
        "        return vgg16\n",
        "\n",
        "net = 'vgg16'\n",
        "freeze = 'none'\n",
        "model = initialize_model(net,freeze)\n",
        "\n"
      ],
      "execution_count": 0,
      "outputs": []
    },
    {
      "cell_type": "markdown",
      "metadata": {
        "id": "DbAWGNCHGx-Q",
        "colab_type": "text"
      },
      "source": [
        "### Loading from Pretrained Weights"
      ]
    },
    {
      "cell_type": "code",
      "metadata": {
        "id": "g3T_Qw5mGlbj",
        "colab_type": "code",
        "colab": {}
      },
      "source": [
        "path = '/content/trained_models/vgg16_ft_89.73_0.18_11.pth'\n",
        "model.load_state_dict(torch.load(path)['state_dict'])"
      ],
      "execution_count": 0,
      "outputs": []
    },
    {
      "cell_type": "markdown",
      "metadata": {
        "colab_type": "text",
        "id": "S1j4SQv8eEPp"
      },
      "source": [
        "### Loss fucntion and optimizer"
      ]
    },
    {
      "cell_type": "code",
      "metadata": {
        "colab_type": "code",
        "id": "WI5gCDnmeEPq",
        "colab": {}
      },
      "source": [
        "Epochs = 50\n",
        "criterion = nn.CrossEntropyLoss()\n",
        "lr = 1e-5\n",
        "optimizer = optim.SGD(vgg16.parameters(), lr=lr, momentum=0.9)"
      ],
      "execution_count": 0,
      "outputs": []
    },
    {
      "cell_type": "markdown",
      "metadata": {
        "colab_type": "text",
        "id": "nImtxJIBeEPs"
      },
      "source": [
        "## TRAINING"
      ]
    },
    {
      "cell_type": "code",
      "metadata": {
        "id": "b8-i78s4HD6J",
        "colab_type": "code",
        "colab": {}
      },
      "source": [
        "os.mkdir('/content/trained_models')\n",
        "path = '/content/trained_models'"
      ],
      "execution_count": 0,
      "outputs": []
    },
    {
      "cell_type": "code",
      "metadata": {
        "colab_type": "code",
        "id": "riF5CjEZeEPs",
        "colab": {}
      },
      "source": [
        "from tqdm import tqdm\n",
        "# from pytorchtools import EarlyStopping\n",
        "import torch.nn.functional as F\n",
        "\n",
        "#if you have gpu then you need to convert the network and data to cuda\n",
        "#the easiest way is to first check for device and then convert network and data to device\n",
        "device = torch.device(\"cuda:0\" if torch.cuda.is_available() else \"cpu\")\n",
        "model.to(device)\n",
        "val_loss_min= 1e6\n",
        "val_acc_prev = 0.0\n",
        "\n",
        "epoch_lr = []\n",
        "epoch_tacc = []\n",
        "epoch_tloss = []\n",
        "epoch_vacc= []\n",
        "epoch_vloss = []\n",
        "\n",
        "# epoch_lr =[1e-5,1e-5,1e-5,1e-5,1e-5,1e-5,1e-5,1e-5,1e-5,1e-5]\n",
        "\n",
        "for epoch in range(Epochs):  # loop over the dataset multiple times\n",
        "    val_accuracy =  0.0\n",
        "    train_accuracy = 0.0\n",
        "\n",
        "    epoch_lr.append(lr)\n",
        "    running_loss = 0.0\n",
        "    # pbar = tqdm(total = len(trainloader))\n",
        "    \n",
        "    # pbar = tqdm(len(trainloader))\n",
        "    \n",
        "    \n",
        "    model.train()\n",
        "    pbar = tqdm(enumerate(trainloader),position=0,leave=True)\n",
        "    # for i, data in pbar:\n",
        "    for i,data in pbar:\n",
        "        # get the inputs\n",
        "        inputs, labels = data\n",
        "        inputs, labels = inputs.to(device), labels.to(device)\n",
        "\n",
        "        # zero the parameter gradients\n",
        "        optimizer.zero_grad()\n",
        "        # In PyTorch, we need to set the gradients to zero before starting to do backpropragation \n",
        "        # because PyTorch accumulates the gradients on subsequent backward passes. \n",
        "        # This is convenient while training RNNs. \n",
        "        # So, the default action is to accumulate the gradients on every loss.backward() call\n",
        "\n",
        "        # forward + backward + optimize\n",
        "        outputs = model(inputs)               #----> forward pass\n",
        "        loss = criterion(outputs, labels)   #----> compute loss\n",
        "        loss.backward()                     #----> backward pass\n",
        "        optimizer.step()                    #----> weights update\n",
        "\n",
        "        # print statistics\n",
        "        running_loss += loss.item()\n",
        "        # print(i,\" \",loss.item())\n",
        "        pred = torch.argmax(F.softmax(outputs),dim=1)\n",
        "        # pred = torch.argmax(outputs,dim=1).float()\n",
        "        # print(\"PREDICTION\",pred)\n",
        "        # print(\"LABELS\",labels)\n",
        "        correct = (pred==labels).float().sum()\n",
        "        # print(\"CORRECT\",correct)\n",
        "        accuracy = correct*100/inputs.shape[0]\n",
        "        train_accuracy += correct\n",
        "\n",
        "\n",
        "        pbar.set_description(\n",
        "            'Train Epoch: {} [{}/{} ({:.0f}%)]\\tLoss: {:.6f}\\tAccuracy: {:.1f}%'.format(\n",
        "                epoch, i * len(inputs), len(trainloader.dataset),\n",
        "                100. * i / len(trainloader),\n",
        "                loss.data.item(),accuracy),refresh=False)\n",
        "        \n",
        "    print(\"\\nTraining Loss of Epoch \",epoch,\" is :\",running_loss)\n",
        "    tacc= train_accuracy*100/len(trainloader.dataset)\n",
        "    print(\"Training Accuracy of Epoch \",epoch,\" is :\",tacc.item(),\"\\n\\n\")\n",
        "    \n",
        "\n",
        "    epoch_tacc.append(tacc.item())\n",
        "    epoch_tloss.append(running_loss)\n",
        "\n",
        "    val_loss = 0.0\n",
        "    model.eval()\n",
        "    pbar = tqdm(enumerate(valloader),position=0,leave=True)\n",
        "    # for i, data in pbar:\n",
        "    for i,data in pbar:\n",
        "        # get the inputs\n",
        "        inputs, labels = data\n",
        "        inputs, labels = inputs.to(device), labels.to(device)\n",
        "\n",
        "        # zero the parameter gradients\n",
        "        # optimizer.zero_grad()\n",
        "        # In PyTorch, we need to set the gradients to zero before starting to do backpropragation \n",
        "        # because PyTorch accumulates the gradients on subsequent backward passes. \n",
        "        # This is convenient while training RNNs. \n",
        "        # So, the default action is to accumulate the gradients on every loss.backward() call\n",
        "\n",
        "        # forward + backward + optimize\n",
        "        outputs = model(inputs)               #----> forward pass\n",
        "        loss = criterion(outputs, labels)   #----> compute loss\n",
        "        # loss.backward()                     #----> backward pass\n",
        "        # optimizer.step()                    #----> weights update\n",
        "\n",
        "        # print statistics\n",
        "        val_loss += loss.item()\n",
        "        # print(i,\" \",loss.item())\n",
        "        \n",
        "        pred = torch.argmax(outputs,dim=1)\n",
        "        correct = (pred==labels).float().sum()\n",
        "        # print(correct)\n",
        "        accuracy = correct*100/inputs.shape[0]\n",
        "        val_accuracy += correct\n",
        "        \n",
        "        pbar.set_description(\n",
        "            'Validation Epoch: {} [{}/{} ({:.0f}%)]\\tLoss: {:.6f}\\tAccuracy: {:.1f}%'.format(\n",
        "                epoch, i * len(inputs), len(valloader.dataset),\n",
        "                100. * i / len(valloader),\n",
        "                loss.data.item(),accuracy),refresh=False)\n",
        "        \n",
        "    print(\"\\nValidation Loss of Epoch \",epoch,\" is :\",val_loss)\n",
        "    acc = val_accuracy*100/len(valloader.dataset)\n",
        "    print(\"Validation Accuracy of Epoch \",epoch,\" is :\",acc.item(),\"\\n\\n\")\n",
        "\n",
        "    epoch_vloss.append(val_loss)\n",
        "    epoch_vacc.append(acc.item())\n",
        "\n",
        "    if val_loss < val_loss_min:\n",
        "        checkpoint = {\n",
        "                'epoch': epoch + 1,\n",
        "                'valid_loss_min': val_loss,\n",
        "                'state_dict': model.state_dict(),\n",
        "                'optimizer': optimizer.state_dict(),\n",
        "            }\n",
        "\n",
        "        val_loss_min = val_loss\n",
        "        # save_ckp(checkpoint, False, checkpoint_path, best_model_path)\n",
        "\n",
        "\n",
        "            # pbar.update()\n",
        "            # pbar()\n",
        "        torch.save(checkpoint, os.path.join(path,'vgg16_ft_{:.2f}_{:.2f}_{}.pth'.format(acc,loss,epoch)))\n",
        "\n",
        "    delta = abs(acc.item() - val_acc_prev)\n",
        "    val_acc_prev = acc.item()\n",
        "\n",
        "    if (delta < 0.4)and(lr<0.1):\n",
        "        lr = lr*10\n",
        "        optimizer = optim.SGD(model.parameters(), lr=lr, momentum=0.9)\n",
        "    \n",
        "print('Finished Training')"
      ],
      "execution_count": 0,
      "outputs": []
    },
    {
      "cell_type": "markdown",
      "metadata": {
        "id": "gziMe0pDIQP3",
        "colab_type": "text"
      },
      "source": [
        "## EVALUATION"
      ]
    },
    {
      "cell_type": "code",
      "metadata": {
        "id": "GycayKWdISVi",
        "colab_type": "code",
        "colab": {}
      },
      "source": [
        "save_path= '/content/drive/My Drive/vgg_results'"
      ],
      "execution_count": 0,
      "outputs": []
    },
    {
      "cell_type": "markdown",
      "metadata": {
        "id": "oFBXh0lQH26g",
        "colab_type": "text"
      },
      "source": [
        "### Plot Loss and Accuracy Curves"
      ]
    },
    {
      "cell_type": "code",
      "metadata": {
        "id": "CbSB9QY1MzDb",
        "colab_type": "code",
        "colab": {}
      },
      "source": [
        "import os.path as osp\n",
        "\n",
        "# from matplotlib.ticker import MaxNLocator\n",
        "# Epochs=21\n",
        "## LOSS AND ACCURACY CURVES ##\n",
        "plt.figure()\n",
        "plt.plot(range(Epochs),np.array(epoch_tloss).reshape(Epochs),color='k',label='Train')\n",
        "plt.plot(range(Epochs),np.array(epoch_vloss).reshape(Epochs),color='b',label='Validation')\n",
        "\n",
        "# ax=plt.figure().gca()\n",
        "# ax.xaxis.set_major_locator(MaxNLocator(integer=True))\n",
        "\n",
        "plt.title('Loss Curves')\n",
        "plt.xlabel('epochs')\n",
        "plt.ylabel('Loss')\n",
        "plt.ylim(0,100)\n",
        "plt.xlim(1,50)\n",
        "# plt.xticks(range(1,22))\n",
        "plt.legend()\n",
        "\n",
        "plt.savefig(osp.join(save_path,'Loss Curves.png'),bbox_inches='tight')\n",
        "################ ACCURACY##################\n",
        "\n",
        "plt.figure()\n",
        "plt.plot(range(Epochs),epoch_tacc,color='k',label='Train')\n",
        "plt.plot(range(Epochs),epoch_vacc,color='b',label='Validation')\n",
        "plt.ylim(0,100)\n",
        "plt.xlim(1,50)\n",
        "# plt.xticks(range(1,22))\n",
        "\n",
        "plt.title('Accuracy Curves')\n",
        "plt.xlabel('epochs')\n",
        "plt.ylabel('Accuracy')\n",
        "plt.legend()\n",
        "\n",
        "plt.savefig(osp.join(save_path,'Accuracy Curves.png'),bbox_inches='tight')"
      ],
      "execution_count": 0,
      "outputs": []
    },
    {
      "cell_type": "markdown",
      "metadata": {
        "id": "AJ1ng0NjH7aZ",
        "colab_type": "text"
      },
      "source": [
        "### Evaluate"
      ]
    },
    {
      "cell_type": "code",
      "metadata": {
        "id": "KOTsqiI31LBZ",
        "colab_type": "code",
        "colab": {}
      },
      "source": [
        "## CONFUSION MATRIX ##\n",
        "\n",
        "\n",
        "correct = 0\n",
        "total = 0\n",
        "predicted = []\n",
        "gt = []\n",
        "with torch.no_grad():\n",
        "    for data in testloader:\n",
        "        images, labels = data\n",
        "        images, labels = images.to(device), labels.to(device)\n",
        "        outputs = model(images)\n",
        "        pred = torch.argmax(outputs,dim=1)\n",
        "        correct += (pred==labels).float().sum()\n",
        "        \n",
        "        predicted.extend(torch.Tensor.cpu(pred).numpy())\n",
        "        gt.extend(torch.Tensor.cpu(labels).numpy())\n",
        "        # _, predicted = torch.max(outputs.data, 1)\n",
        "        total += labels.size(0)\n",
        "        # correct += (pred == labels).sum().item()\n",
        "\n",
        "print('Accuracy of the network on the 10000 test images: %d %%' % (\n",
        "    100 * correct / total))\n",
        "\n",
        "\n",
        "from sklearn.metrics import confusion_matrix\n",
        "import pandas as pd\n",
        "import itertools\n",
        "\n",
        "# y_true = [2, 0, 2, 2, 0, 1]\n",
        "# y_pred = [0, 0, 2, 2, 0, 2]\n",
        "# out\n",
        "# pred=np.argmax(out,axis=1)\n",
        "cfm = confusion_matrix(gt, predicted)\n",
        "recall = cfm[1,1]/cfm[1,:].sum()\n",
        "precision = cfm[1,1]/cfm[:,1].sum()\n",
        "f1 = (2*precision*recall)/(precision+recall)\n",
        "print(\"F1 SCORE: \",f1)\n",
        "# cfm = pd.DataFrame(cfm,index=np.arange(10),columns=np.arange(10))\n",
        "# sns.heatmap(cfm,annot=True)\n",
        "\n",
        "def plot_confusion_matrix(cm, classes,\n",
        "                          normalize=False,\n",
        "                          title='Confusion matrix',\n",
        "                          cmap=plt.cm.Blues):\n",
        "    \"\"\"\n",
        "    This function prints and plots the confusion matrix.\n",
        "    Normalization can be applied by setting `normalize=True`.\n",
        "    \"\"\"\n",
        "    plt.imshow(cm, interpolation='nearest', cmap=cmap)\n",
        "    plt.title(title)\n",
        "    plt.colorbar()\n",
        "    tick_marks = np.arange(len(classes))\n",
        "    plt.xticks(tick_marks, classes, rotation=45)\n",
        "    plt.yticks(tick_marks, classes)\n",
        "\n",
        "    if normalize:\n",
        "        cm = cm.astype('float') / cm.sum(axis=1)[:, np.newaxis]\n",
        "        print(\"Normalized confusion matrix\")\n",
        "    else:\n",
        "        print('Confusion matrix, without normalization')\n",
        "\n",
        "#     print(cm)\n",
        "\n",
        "    thresh = cm.max() / 2.\n",
        "    for i, j in itertools.product(range(cm.shape[0]), range(cm.shape[1])):\n",
        "        plt.text(j, i, cm[i, j],\n",
        "                 horizontalalignment=\"center\",\n",
        "                 color=\"white\" if cm[i, j] > thresh else \"black\")\n",
        "\n",
        "    plt.tight_layout()\n",
        "    plt.ylabel('True label')\n",
        "    plt.xlabel('Predicted label')\n",
        "    \n",
        "plot_confusion_matrix(cfm, classes=np.arange(2))\n",
        "plt.savefig(osp.join(save_path,'cfm_train.png'),bbox_inches='tight')\n",
        "\n",
        "\n",
        "\n",
        "        \n"
      ],
      "execution_count": 0,
      "outputs": []
    }
  ]
}