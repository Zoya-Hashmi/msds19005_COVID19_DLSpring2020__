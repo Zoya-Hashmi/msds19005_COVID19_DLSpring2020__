{
  "nbformat": 4,
  "nbformat_minor": 0,
  "metadata": {
    "colab": {
      "name": "Copy of covid_vgg_retraining.ipynb",
      "provenance": [],
      "collapsed_sections": [],
      "toc_visible": true
    },
    "kernelspec": {
      "display_name": "Python 3",
      "language": "python",
      "name": "python3"
    },
    "language_info": {
      "codemirror_mode": {
        "name": "ipython",
        "version": 3
      },
      "file_extension": ".py",
      "mimetype": "text/x-python",
      "name": "python",
      "nbconvert_exporter": "python",
      "pygments_lexer": "ipython3",
      "version": "3.7.3"
    },
    "accelerator": "GPU",
    "widgets": {
      "application/vnd.jupyter.widget-state+json": {
        "ada4385b112b4a63b6cbc9ed7e76127c": {
          "model_module": "@jupyter-widgets/controls",
          "model_name": "HBoxModel",
          "state": {
            "_view_name": "HBoxView",
            "_dom_classes": [],
            "_model_name": "HBoxModel",
            "_view_module": "@jupyter-widgets/controls",
            "_model_module_version": "1.5.0",
            "_view_count": null,
            "_view_module_version": "1.5.0",
            "box_style": "",
            "layout": "IPY_MODEL_4aacdf548ef4421e82a02f530cddd96a",
            "_model_module": "@jupyter-widgets/controls",
            "children": [
              "IPY_MODEL_4b4c255d4e6942d2823194a38646b718",
              "IPY_MODEL_9d63554814d046dc9cc51e4b1ac1399f"
            ]
          }
        },
        "4aacdf548ef4421e82a02f530cddd96a": {
          "model_module": "@jupyter-widgets/base",
          "model_name": "LayoutModel",
          "state": {
            "_view_name": "LayoutView",
            "grid_template_rows": null,
            "right": null,
            "justify_content": null,
            "_view_module": "@jupyter-widgets/base",
            "overflow": null,
            "_model_module_version": "1.2.0",
            "_view_count": null,
            "flex_flow": null,
            "width": null,
            "min_width": null,
            "border": null,
            "align_items": null,
            "bottom": null,
            "_model_module": "@jupyter-widgets/base",
            "top": null,
            "grid_column": null,
            "overflow_y": null,
            "overflow_x": null,
            "grid_auto_flow": null,
            "grid_area": null,
            "grid_template_columns": null,
            "flex": null,
            "_model_name": "LayoutModel",
            "justify_items": null,
            "grid_row": null,
            "max_height": null,
            "align_content": null,
            "visibility": null,
            "align_self": null,
            "height": null,
            "min_height": null,
            "padding": null,
            "grid_auto_rows": null,
            "grid_gap": null,
            "max_width": null,
            "order": null,
            "_view_module_version": "1.2.0",
            "grid_template_areas": null,
            "object_position": null,
            "object_fit": null,
            "grid_auto_columns": null,
            "margin": null,
            "display": null,
            "left": null
          }
        },
        "4b4c255d4e6942d2823194a38646b718": {
          "model_module": "@jupyter-widgets/controls",
          "model_name": "IntProgressModel",
          "state": {
            "_view_name": "ProgressView",
            "style": "IPY_MODEL_5e49f3f8418a4429b35bca4538230f18",
            "_dom_classes": [],
            "description": "100%",
            "_model_name": "IntProgressModel",
            "bar_style": "success",
            "max": 553433881,
            "_view_module": "@jupyter-widgets/controls",
            "_model_module_version": "1.5.0",
            "value": 553433881,
            "_view_count": null,
            "_view_module_version": "1.5.0",
            "orientation": "horizontal",
            "min": 0,
            "description_tooltip": null,
            "_model_module": "@jupyter-widgets/controls",
            "layout": "IPY_MODEL_aadc5c5bcbf34134863e33bd9173fc69"
          }
        },
        "9d63554814d046dc9cc51e4b1ac1399f": {
          "model_module": "@jupyter-widgets/controls",
          "model_name": "HTMLModel",
          "state": {
            "_view_name": "HTMLView",
            "style": "IPY_MODEL_88ef485076924bfa8e4d6b7083f48642",
            "_dom_classes": [],
            "description": "",
            "_model_name": "HTMLModel",
            "placeholder": "​",
            "_view_module": "@jupyter-widgets/controls",
            "_model_module_version": "1.5.0",
            "value": " 528M/528M [19:38&lt;00:00, 470kB/s]",
            "_view_count": null,
            "_view_module_version": "1.5.0",
            "description_tooltip": null,
            "_model_module": "@jupyter-widgets/controls",
            "layout": "IPY_MODEL_cf9b8ff359ba48cc89453ff1c7d7154a"
          }
        },
        "5e49f3f8418a4429b35bca4538230f18": {
          "model_module": "@jupyter-widgets/controls",
          "model_name": "ProgressStyleModel",
          "state": {
            "_view_name": "StyleView",
            "_model_name": "ProgressStyleModel",
            "description_width": "initial",
            "_view_module": "@jupyter-widgets/base",
            "_model_module_version": "1.5.0",
            "_view_count": null,
            "_view_module_version": "1.2.0",
            "bar_color": null,
            "_model_module": "@jupyter-widgets/controls"
          }
        },
        "aadc5c5bcbf34134863e33bd9173fc69": {
          "model_module": "@jupyter-widgets/base",
          "model_name": "LayoutModel",
          "state": {
            "_view_name": "LayoutView",
            "grid_template_rows": null,
            "right": null,
            "justify_content": null,
            "_view_module": "@jupyter-widgets/base",
            "overflow": null,
            "_model_module_version": "1.2.0",
            "_view_count": null,
            "flex_flow": null,
            "width": null,
            "min_width": null,
            "border": null,
            "align_items": null,
            "bottom": null,
            "_model_module": "@jupyter-widgets/base",
            "top": null,
            "grid_column": null,
            "overflow_y": null,
            "overflow_x": null,
            "grid_auto_flow": null,
            "grid_area": null,
            "grid_template_columns": null,
            "flex": null,
            "_model_name": "LayoutModel",
            "justify_items": null,
            "grid_row": null,
            "max_height": null,
            "align_content": null,
            "visibility": null,
            "align_self": null,
            "height": null,
            "min_height": null,
            "padding": null,
            "grid_auto_rows": null,
            "grid_gap": null,
            "max_width": null,
            "order": null,
            "_view_module_version": "1.2.0",
            "grid_template_areas": null,
            "object_position": null,
            "object_fit": null,
            "grid_auto_columns": null,
            "margin": null,
            "display": null,
            "left": null
          }
        },
        "88ef485076924bfa8e4d6b7083f48642": {
          "model_module": "@jupyter-widgets/controls",
          "model_name": "DescriptionStyleModel",
          "state": {
            "_view_name": "StyleView",
            "_model_name": "DescriptionStyleModel",
            "description_width": "",
            "_view_module": "@jupyter-widgets/base",
            "_model_module_version": "1.5.0",
            "_view_count": null,
            "_view_module_version": "1.2.0",
            "_model_module": "@jupyter-widgets/controls"
          }
        },
        "cf9b8ff359ba48cc89453ff1c7d7154a": {
          "model_module": "@jupyter-widgets/base",
          "model_name": "LayoutModel",
          "state": {
            "_view_name": "LayoutView",
            "grid_template_rows": null,
            "right": null,
            "justify_content": null,
            "_view_module": "@jupyter-widgets/base",
            "overflow": null,
            "_model_module_version": "1.2.0",
            "_view_count": null,
            "flex_flow": null,
            "width": null,
            "min_width": null,
            "border": null,
            "align_items": null,
            "bottom": null,
            "_model_module": "@jupyter-widgets/base",
            "top": null,
            "grid_column": null,
            "overflow_y": null,
            "overflow_x": null,
            "grid_auto_flow": null,
            "grid_area": null,
            "grid_template_columns": null,
            "flex": null,
            "_model_name": "LayoutModel",
            "justify_items": null,
            "grid_row": null,
            "max_height": null,
            "align_content": null,
            "visibility": null,
            "align_self": null,
            "height": null,
            "min_height": null,
            "padding": null,
            "grid_auto_rows": null,
            "grid_gap": null,
            "max_width": null,
            "order": null,
            "_view_module_version": "1.2.0",
            "grid_template_areas": null,
            "object_position": null,
            "object_fit": null,
            "grid_auto_columns": null,
            "margin": null,
            "display": null,
            "left": null
          }
        }
      }
    }
  },
  "cells": [
    {
      "cell_type": "code",
      "metadata": {
        "id": "npT-35Tsr7wB",
        "colab_type": "code",
        "outputId": "bfec04d3-5234-4268-e9ad-d95bbbc921d2",
        "colab": {
          "base_uri": "https://localhost:8080/",
          "height": 125
        }
      },
      "source": [
        "from google.colab import drive\n",
        "drive.mount('/content/drive')"
      ],
      "execution_count": 0,
      "outputs": [
        {
          "output_type": "stream",
          "text": [
            "Go to this URL in a browser: https://accounts.google.com/o/oauth2/auth?client_id=947318989803-6bn6qk8qdgf4n4g3pfee6491hc0brc4i.apps.googleusercontent.com&redirect_uri=urn%3aietf%3awg%3aoauth%3a2.0%3aoob&response_type=code&scope=email%20https%3a%2f%2fwww.googleapis.com%2fauth%2fdocs.test%20https%3a%2f%2fwww.googleapis.com%2fauth%2fdrive%20https%3a%2f%2fwww.googleapis.com%2fauth%2fdrive.photos.readonly%20https%3a%2f%2fwww.googleapis.com%2fauth%2fpeopleapi.readonly\n",
            "\n",
            "Enter your authorization code:\n",
            "··········\n",
            "Mounted at /content/drive\n"
          ],
          "name": "stdout"
        }
      ]
    },
    {
      "cell_type": "markdown",
      "metadata": {
        "id": "4gGz1wgZMPtI",
        "colab_type": "text"
      },
      "source": [
        "## IMPORTING LIBRARIES"
      ]
    },
    {
      "cell_type": "code",
      "metadata": {
        "colab_type": "code",
        "id": "Iz5mTvUoeEPL",
        "colab": {}
      },
      "source": [
        "import torch\n",
        "import torch.nn as nn\n",
        "import torch.optim as optim\n",
        "from torch.optim import lr_scheduler\n",
        "from torch.autograd import Variable\n",
        "import numpy as np\n",
        "import torchvision\n",
        "from torchvision import datasets, models, transforms\n",
        "import matplotlib.pyplot as plt\n",
        "import time\n",
        "import os\n",
        "import copy"
      ],
      "execution_count": 0,
      "outputs": []
    },
    {
      "cell_type": "markdown",
      "metadata": {
        "id": "LcJBygK7MaS5",
        "colab_type": "text"
      },
      "source": [
        "## DATALOADER"
      ]
    },
    {
      "cell_type": "markdown",
      "metadata": {
        "colab_type": "text",
        "id": "rmWAqcDJeEPO"
      },
      "source": [
        "### LOAD/DOWNLOAD DATASET"
      ]
    },
    {
      "cell_type": "code",
      "metadata": {
        "colab_type": "code",
        "id": "V91vwYG4eEPO",
        "outputId": "4999ae83-90e5-4313-e1e7-78b6562b8bc4",
        "colab": {
          "base_uri": "https://localhost:8080/",
          "height": 52
        }
      },
      "source": [
        "! cp -r '/content/drive/My Drive/Assignment 5 Dataset'\n",
        "\n",
        "# !gdown https://drive.google.com/uc?id=1j9bZ2drKlr_btZEBR-melf2RHUWhAPSv\n",
        "# !unzip /content/Assignment5Data.zip \n",
        "\n",
        "data_dir = '/content/Assignment 5 Dataset'\n"
      ],
      "execution_count": 0,
      "outputs": [
        {
          "output_type": "stream",
          "text": [
            "Permission denied: https://drive.google.com/uc?id=1j9bZ2drKlr_btZEBR-melf2RHUWhAPSv\n",
            "Maybe you need to change permission over 'Anyone with the link'?\n"
          ],
          "name": "stdout"
        }
      ]
    },
    {
      "cell_type": "markdown",
      "metadata": {
        "id": "BjfYtCKLgQz-",
        "colab_type": "text"
      },
      "source": [
        "### Calculating Mean and Std for Normalizing Images"
      ]
    },
    {
      "cell_type": "code",
      "metadata": {
        "id": "-6h1rqI6gQhS",
        "colab_type": "code",
        "colab": {}
      },
      "source": [
        "# train_data = datasets.ImageFolder(data_dir + '/train', transform=transforms.ToTensor())\n",
        "\n",
        "# mean = torch.zeros(size=(1,3))\n",
        "# meansq = torch.zeros(size=(1,3))\n",
        "# # meansq = \n",
        "# for data,_ in train_data:\n",
        "#   mean += data.mean([1,2])\n",
        "#   meansq += data.pow(2).mean([1,2])\n",
        "\n",
        "# mean = mean/len(train_data)\n",
        "# meansq = meansq/len(train_data)\n",
        "# std = torch.sqrt(meansq-mean.pow(2))\n",
        "# print(mean)\n",
        "# print(std)\n",
        "\n",
        "# tensor([[0.4905, 0.4905, 0.4906]])\n",
        "# tensor([[0.2494, 0.2494, 0.2494]])\n"
      ],
      "execution_count": 0,
      "outputs": []
    },
    {
      "cell_type": "markdown",
      "metadata": {
        "id": "MTVO6w0OOZsM",
        "colab_type": "text"
      },
      "source": [
        "### DATALOADER"
      ]
    },
    {
      "cell_type": "code",
      "metadata": {
        "colab_type": "code",
        "id": "T-hfjELPeEPR",
        "outputId": "3ed49024-c824-495e-f3b1-2fad82720ea7",
        "colab": {
          "base_uri": "https://localhost:8080/",
          "height": 52
        }
      },
      "source": [
        "#Define transforms for the training data and testing data\n",
        "train_transforms = transforms.Compose([transforms.RandomRotation(30),\n",
        "                                       transforms.Resize(256),\n",
        "                                       transforms.CenterCrop(224),\n",
        "                                       transforms.RandomHorizontalFlip(),\n",
        "                                       transforms.ToTensor(),\n",
        "                                       transforms.Normalize([0.4905, 0.4905, 0.4906],\n",
        "                                                            [0.2494, 0.2494, 0.2494])])\n",
        "\n",
        "test_transforms = transforms.Compose([transforms.Resize(256),\n",
        "                                      transforms.CenterCrop(224),\n",
        "                                      transforms.ToTensor(),\n",
        "                                      transforms.Normalize([0.4905, 0.4905, 0.4906],\n",
        "                                                           [0.2494, 0.2494, 0.2494])])\n",
        "\n",
        "\n",
        "#pass transform here-in\n",
        "train_data = datasets.ImageFolder(data_dir + '/train', transform=train_transforms)\n",
        "val_data = datasets.ImageFolder(data_dir + '/validation', transform=test_transforms)\n",
        "test_data = datasets.ImageFolder(data_dir + '/test', transform=test_transforms)\n",
        "\n",
        "#data loaders\n",
        "batch_size =32\n",
        "trainloader = torch.utils.data.DataLoader(train_data, batch_size=batch_size, shuffle=True)\n",
        "valloader = torch.utils.data.DataLoader(val_data, batch_size=batch_size, shuffle=True)\n",
        "testloader = torch.utils.data.DataLoader(test_data, batch_size=batch_size, shuffle=True)\n",
        "\n",
        "\n",
        "\n",
        "print(\"Classes: \")\n",
        "class_names = train_data.classes\n",
        "print(class_names)"
      ],
      "execution_count": 0,
      "outputs": [
        {
          "output_type": "stream",
          "text": [
            "Classes: \n",
            "['infected', 'normal']\n"
          ],
          "name": "stdout"
        }
      ]
    },
    {
      "cell_type": "code",
      "metadata": {
        "colab_type": "code",
        "id": "92RE4_WFeEPU",
        "outputId": "3ec680ed-81cc-40ad-a6d4-ea35712bb1fb",
        "colab": {
          "base_uri": "https://localhost:8080/",
          "height": 138
        }
      },
      "source": [
        "def imshow(inp, title=None):\n",
        "    inp = inp.numpy().transpose((1, 2, 0))\n",
        "    plt.axis('off')\n",
        "    plt.imshow(inp)\n",
        "    if title is not None:\n",
        "        plt.title(title)\n",
        "    plt.pause(0.001)\n",
        "\n",
        "def show_databatch(inputs, classes):\n",
        "    out = torchvision.utils.make_grid(inputs)\n",
        "    imshow(out, title=[class_names[x] for x in classes])\n",
        "\n",
        "# Get a batch of training data\n",
        "inputs, classes = next(iter(trainloader))\n",
        "show_databatch(inputs, classes)"
      ],
      "execution_count": 0,
      "outputs": [
        {
          "output_type": "stream",
          "text": [
            "Clipping input data to the valid range for imshow with RGB data ([0..1] for floats or [0..255] for integers).\n"
          ],
          "name": "stderr"
        },
        {
          "output_type": "display_data",
          "data": {
            "image/png": "[encoded data removed]",
            "text/plain": [
              "<Figure size 432x288 with 1 Axes>"
            ]
          },
          "metadata": {
            "tags": [],
            "needs_background": "light"
          }
        }
      ]
    },
    {
      "cell_type": "markdown",
      "metadata": {
        "colab_type": "text",
        "id": "b2HLXeDKeEPX"
      },
      "source": [
        "## LOAD MODEL"
      ]
    },
    {
      "cell_type": "code",
      "metadata": {
        "colab_type": "code",
        "id": "PkWdk-bKeEPY",
        "outputId": "b534b6f5-3ac7-4471-d3d1-a20f567c94d1",
        "colab": {
          "base_uri": "https://localhost:8080/",
          "height": 922,
          "referenced_widgets": [
            "ada4385b112b4a63b6cbc9ed7e76127c",
            "4aacdf548ef4421e82a02f530cddd96a",
            "4b4c255d4e6942d2823194a38646b718",
            "9d63554814d046dc9cc51e4b1ac1399f",
            "5e49f3f8418a4429b35bca4538230f18",
            "aadc5c5bcbf34134863e33bd9173fc69",
            "88ef485076924bfa8e4d6b7083f48642",
            "cf9b8ff359ba48cc89453ff1c7d7154a"
          ]
        }
      },
      "source": [
        "def initialize_model(model,freeze):\n",
        "    if model == 'res18':\n",
        "        res18 = models.resnet18(pretrained=True)\n",
        "        fc1_in = res18.fc.in_features\n",
        "\n",
        "        if freeze == 'all':\n",
        "            for param in res18.parameters():\n",
        "                param.requires_grad=False\n",
        "        elif freeze == 'partial':\n",
        "            for param in list(res18.parameters())[:-17]:\n",
        "                param.requires_grad=False\n",
        "        elif freeze == 'none':\n",
        "            pass\n",
        "\n",
        "\n",
        "    elif model == 'vgg16':\n",
        "        vgg16 == models.vgg16(pretrained=True)\n",
        "        fc1_in = vgg16.classifier[0].in_features\n",
        "\n",
        "        if freeze == 'all':\n",
        "            for param in vgg16.features.parameters():\n",
        "                param.requires_grad = False\n",
        "        elif freeze == 'partial':\n",
        "            for param in list(vgg16.features.parameters())[:-6]:\n",
        "                param.requires_grad = False\n",
        "        elif freeze == 'none':\n",
        "            pass\n",
        "\n",
        "\n",
        "    fc1_out = 5*10+100\n",
        "    fc2_in = fc1_out\n",
        "    fc2_out = 2\n",
        "    features = [nn.Linear(fc1_in,fc1_out,bias=True),nn.ReLU(inplace=True),nn.Dropout(p=0.5,inplace=False),nn.Linear(fc2_in,fc2_out,bias=True)]\n",
        "\n",
        "    if model=='res18':\n",
        "        res18.fc = nn.Sequential(*features)\n",
        "        return res18\n",
        "    if model == 'vgg16':\n",
        "        vgg16.classifier = nn.Sequential(*features)\n",
        "        if pretarined_weights != None:\n",
        "          vgg16.load_state_dict(torch.load(pretrained_weights)['state_dict'])\n",
        "        return vgg16\n",
        "\n",
        "net = 'vgg16'\n",
        "freeze = 'none'\n",
        "model = initialize_model(net,freeze)\n",
        "\n"
      ],
      "execution_count": 0,
      "outputs": [
        {
          "output_type": "stream",
          "text": [
            "Downloading: \"https://download.pytorch.org/models/vgg16-397923af.pth\" to /root/.cache/torch/checkpoints/vgg16-397923af.pth\n"
          ],
          "name": "stderr"
        },
        {
          "output_type": "display_data",
          "data": {
            "application/vnd.jupyter.widget-view+json": {
              "model_id": "ada4385b112b4a63b6cbc9ed7e76127c",
              "version_minor": 0,
              "version_major": 2
            },
            "text/plain": [
              "HBox(children=(IntProgress(value=0, max=553433881), HTML(value='')))"
            ]
          },
          "metadata": {
            "tags": []
          }
        },
        {
          "output_type": "stream",
          "text": [
            "\n",
            "VGG(\n",
            "  (features): Sequential(\n",
            "    (0): Conv2d(3, 64, kernel_size=(3, 3), stride=(1, 1), padding=(1, 1))\n",
            "    (1): ReLU(inplace=True)\n",
            "    (2): Conv2d(64, 64, kernel_size=(3, 3), stride=(1, 1), padding=(1, 1))\n",
            "    (3): ReLU(inplace=True)\n",
            "    (4): MaxPool2d(kernel_size=2, stride=2, padding=0, dilation=1, ceil_mode=False)\n",
            "    (5): Conv2d(64, 128, kernel_size=(3, 3), stride=(1, 1), padding=(1, 1))\n",
            "    (6): ReLU(inplace=True)\n",
            "    (7): Conv2d(128, 128, kernel_size=(3, 3), stride=(1, 1), padding=(1, 1))\n",
            "    (8): ReLU(inplace=True)\n",
            "    (9): MaxPool2d(kernel_size=2, stride=2, padding=0, dilation=1, ceil_mode=False)\n",
            "    (10): Conv2d(128, 256, kernel_size=(3, 3), stride=(1, 1), padding=(1, 1))\n",
            "    (11): ReLU(inplace=True)\n",
            "    (12): Conv2d(256, 256, kernel_size=(3, 3), stride=(1, 1), padding=(1, 1))\n",
            "    (13): ReLU(inplace=True)\n",
            "    (14): Conv2d(256, 256, kernel_size=(3, 3), stride=(1, 1), padding=(1, 1))\n",
            "    (15): ReLU(inplace=True)\n",
            "    (16): MaxPool2d(kernel_size=2, stride=2, padding=0, dilation=1, ceil_mode=False)\n",
            "    (17): Conv2d(256, 512, kernel_size=(3, 3), stride=(1, 1), padding=(1, 1))\n",
            "    (18): ReLU(inplace=True)\n",
            "    (19): Conv2d(512, 512, kernel_size=(3, 3), stride=(1, 1), padding=(1, 1))\n",
            "    (20): ReLU(inplace=True)\n",
            "    (21): Conv2d(512, 512, kernel_size=(3, 3), stride=(1, 1), padding=(1, 1))\n",
            "    (22): ReLU(inplace=True)\n",
            "    (23): MaxPool2d(kernel_size=2, stride=2, padding=0, dilation=1, ceil_mode=False)\n",
            "    (24): Conv2d(512, 512, kernel_size=(3, 3), stride=(1, 1), padding=(1, 1))\n",
            "    (25): ReLU(inplace=True)\n",
            "    (26): Conv2d(512, 512, kernel_size=(3, 3), stride=(1, 1), padding=(1, 1))\n",
            "    (27): ReLU(inplace=True)\n",
            "    (28): Conv2d(512, 512, kernel_size=(3, 3), stride=(1, 1), padding=(1, 1))\n",
            "    (29): ReLU(inplace=True)\n",
            "    (30): MaxPool2d(kernel_size=2, stride=2, padding=0, dilation=1, ceil_mode=False)\n",
            "  )\n",
            "  (avgpool): AdaptiveAvgPool2d(output_size=(7, 7))\n",
            "  (classifier): Sequential(\n",
            "    (0): Linear(in_features=25088, out_features=4096, bias=True)\n",
            "    (1): ReLU(inplace=True)\n",
            "    (2): Dropout(p=0.5, inplace=False)\n",
            "    (3): Linear(in_features=4096, out_features=4096, bias=True)\n",
            "    (4): ReLU(inplace=True)\n",
            "    (5): Dropout(p=0.5, inplace=False)\n",
            "    (6): Linear(in_features=4096, out_features=1000, bias=True)\n",
            "  )\n",
            ")\n",
            "Output Layer of VGG16 :  1000\n"
          ],
          "name": "stdout"
        }
      ]
    },
    {
      "cell_type": "markdown",
      "metadata": {
        "id": "DbAWGNCHGx-Q",
        "colab_type": "text"
      },
      "source": [
        "### Loading from Pretrained Weights"
      ]
    },
    {
      "cell_type": "code",
      "metadata": {
        "id": "g3T_Qw5mGlbj",
        "colab_type": "code",
        "colab": {}
      },
      "source": [
        "path = '/content/trained_models/vgg16_ft_89.73_0.18_11.pth'\n",
        "model.load_state_dict(torch.load(path)['state_dict'])"
      ],
      "execution_count": 0,
      "outputs": []
    },
    {
      "cell_type": "markdown",
      "metadata": {
        "colab_type": "text",
        "id": "S1j4SQv8eEPp"
      },
      "source": [
        "### Loss fucntion and optimizer"
      ]
    },
    {
      "cell_type": "code",
      "metadata": {
        "colab_type": "code",
        "id": "WI5gCDnmeEPq",
        "outputId": "063886d9-191b-41db-a24b-ea8ac059cc2e",
        "colab": {
          "base_uri": "https://localhost:8080/",
          "height": 221
        }
      },
      "source": [
        "Epochs = 50\n",
        "criterion = nn.CrossEntropyLoss()\n",
        "lr = 1e-5\n",
        "optimizer = optim.SGD(vgg16.parameters(), lr=lr, momentum=0.9)"
      ],
      "execution_count": 0,
      "outputs": [
        {
          "output_type": "error",
          "ename": "NameError",
          "evalue": "ignored",
          "traceback": [
            "\u001b[0;31m---------------------------------------------------------------------------\u001b[0m",
            "\u001b[0;31mNameError\u001b[0m                                 Traceback (most recent call last)",
            "\u001b[0;32m<ipython-input-1-7241b7139831>\u001b[0m in \u001b[0;36m<module>\u001b[0;34m()\u001b[0m\n\u001b[1;32m      1\u001b[0m \u001b[0mEpochs\u001b[0m \u001b[0;34m=\u001b[0m \u001b[0;36m50\u001b[0m\u001b[0;34m\u001b[0m\u001b[0;34m\u001b[0m\u001b[0m\n\u001b[0;32m----> 2\u001b[0;31m \u001b[0mcriterion\u001b[0m \u001b[0;34m=\u001b[0m \u001b[0mnn\u001b[0m\u001b[0;34m.\u001b[0m\u001b[0mCrossEntropyLoss\u001b[0m\u001b[0;34m(\u001b[0m\u001b[0;34m)\u001b[0m\u001b[0;34m\u001b[0m\u001b[0;34m\u001b[0m\u001b[0m\n\u001b[0m\u001b[1;32m      3\u001b[0m \u001b[0mlr\u001b[0m \u001b[0;34m=\u001b[0m \u001b[0;36m1e-5\u001b[0m\u001b[0;34m\u001b[0m\u001b[0;34m\u001b[0m\u001b[0m\n\u001b[1;32m      4\u001b[0m \u001b[0moptimizer\u001b[0m \u001b[0;34m=\u001b[0m \u001b[0moptim\u001b[0m\u001b[0;34m.\u001b[0m\u001b[0mSGD\u001b[0m\u001b[0;34m(\u001b[0m\u001b[0mvgg16\u001b[0m\u001b[0;34m.\u001b[0m\u001b[0mparameters\u001b[0m\u001b[0;34m(\u001b[0m\u001b[0;34m)\u001b[0m\u001b[0;34m,\u001b[0m \u001b[0mlr\u001b[0m\u001b[0;34m=\u001b[0m\u001b[0mlr\u001b[0m\u001b[0;34m,\u001b[0m \u001b[0mmomentum\u001b[0m\u001b[0;34m=\u001b[0m\u001b[0;36m0.9\u001b[0m\u001b[0;34m)\u001b[0m\u001b[0;34m\u001b[0m\u001b[0;34m\u001b[0m\u001b[0m\n",
            "\u001b[0;31mNameError\u001b[0m: name 'nn' is not defined"
          ]
        }
      ]
    },
    {
      "cell_type": "markdown",
      "metadata": {
        "colab_type": "text",
        "id": "nImtxJIBeEPs"
      },
      "source": [
        "## TRAINING"
      ]
    },
    {
      "cell_type": "code",
      "metadata": {
        "id": "b8-i78s4HD6J",
        "colab_type": "code",
        "colab": {}
      },
      "source": [
        "os.mkdir('/content/trained_models')\n",
        "path = '/content/trained_models'"
      ],
      "execution_count": 0,
      "outputs": []
    },
    {
      "cell_type": "code",
      "metadata": {
        "colab_type": "code",
        "id": "riF5CjEZeEPs",
        "outputId": "4c2be08f-1632-4612-8872-525da14f2635",
        "colab": {
          "base_uri": "https://localhost:8080/",
          "height": 1000
        }
      },
      "source": [
        "from tqdm import tqdm\n",
        "# from pytorchtools import EarlyStopping\n",
        "import torch.nn.functional as F\n",
        "\n",
        "#if you have gpu then you need to convert the network and data to cuda\n",
        "#the easiest way is to first check for device and then convert network and data to device\n",
        "device = torch.device(\"cuda:0\" if torch.cuda.is_available() else \"cpu\")\n",
        "model.to(device)\n",
        "val_loss_min= 1e6\n",
        "val_acc_prev = 0.0\n",
        "\n",
        "epoch_lr = []\n",
        "epoch_tacc = []\n",
        "epoch_tloss = []\n",
        "epoch_vacc= []\n",
        "epoch_vloss = []\n",
        "\n",
        "# epoch_lr =[1e-5,1e-5,1e-5,1e-5,1e-5,1e-5,1e-5,1e-5,1e-5,1e-5]\n",
        "\n",
        "for epoch in range(Epochs):  # loop over the dataset multiple times\n",
        "    val_accuracy =  0.0\n",
        "    train_accuracy = 0.0\n",
        "\n",
        "    epoch_lr.append(lr)\n",
        "    running_loss = 0.0\n",
        "    # pbar = tqdm(total = len(trainloader))\n",
        "    \n",
        "    # pbar = tqdm(len(trainloader))\n",
        "    \n",
        "    \n",
        "    model.train()\n",
        "    pbar = tqdm(enumerate(trainloader),position=0,leave=True)\n",
        "    # for i, data in pbar:\n",
        "    for i,data in pbar:\n",
        "        # get the inputs\n",
        "        inputs, labels = data\n",
        "        inputs, labels = inputs.to(device), labels.to(device)\n",
        "\n",
        "        # zero the parameter gradients\n",
        "        optimizer.zero_grad()\n",
        "        # In PyTorch, we need to set the gradients to zero before starting to do backpropragation \n",
        "        # because PyTorch accumulates the gradients on subsequent backward passes. \n",
        "        # This is convenient while training RNNs. \n",
        "        # So, the default action is to accumulate the gradients on every loss.backward() call\n",
        "\n",
        "        # forward + backward + optimize\n",
        "        outputs = model(inputs)               #----> forward pass\n",
        "        loss = criterion(outputs, labels)   #----> compute loss\n",
        "        loss.backward()                     #----> backward pass\n",
        "        optimizer.step()                    #----> weights update\n",
        "\n",
        "        # print statistics\n",
        "        running_loss += loss.item()\n",
        "        # print(i,\" \",loss.item())\n",
        "        pred = torch.argmax(F.softmax(outputs),dim=1)\n",
        "        # pred = torch.argmax(outputs,dim=1).float()\n",
        "        # print(\"PREDICTION\",pred)\n",
        "        # print(\"LABELS\",labels)\n",
        "        correct = (pred==labels).float().sum()\n",
        "        # print(\"CORRECT\",correct)\n",
        "        accuracy = correct*100/inputs.shape[0]\n",
        "        train_accuracy += correct\n",
        "\n",
        "\n",
        "        pbar.set_description(\n",
        "            'Train Epoch: {} [{}/{} ({:.0f}%)]\\tLoss: {:.6f}\\tAccuracy: {:.1f}%'.format(\n",
        "                epoch, i * len(inputs), len(trainloader.dataset),\n",
        "                100. * i / len(trainloader),\n",
        "                loss.data.item(),accuracy),refresh=False)\n",
        "        \n",
        "    print(\"\\nTraining Loss of Epoch \",epoch,\" is :\",running_loss)\n",
        "    tacc= train_accuracy*100/len(trainloader.dataset)\n",
        "    print(\"Training Accuracy of Epoch \",epoch,\" is :\",tacc.item(),\"\\n\\n\")\n",
        "    \n",
        "\n",
        "    epoch_tacc.append(tacc.item())\n",
        "    epoch_tloss.append(running_loss)\n",
        "\n",
        "    val_loss = 0.0\n",
        "    model.eval()\n",
        "    pbar = tqdm(enumerate(valloader),position=0,leave=True)\n",
        "    # for i, data in pbar:\n",
        "    for i,data in pbar:\n",
        "        # get the inputs\n",
        "        inputs, labels = data\n",
        "        inputs, labels = inputs.to(device), labels.to(device)\n",
        "\n",
        "        # zero the parameter gradients\n",
        "        # optimizer.zero_grad()\n",
        "        # In PyTorch, we need to set the gradients to zero before starting to do backpropragation \n",
        "        # because PyTorch accumulates the gradients on subsequent backward passes. \n",
        "        # This is convenient while training RNNs. \n",
        "        # So, the default action is to accumulate the gradients on every loss.backward() call\n",
        "\n",
        "        # forward + backward + optimize\n",
        "        outputs = model(inputs)               #----> forward pass\n",
        "        loss = criterion(outputs, labels)   #----> compute loss\n",
        "        # loss.backward()                     #----> backward pass\n",
        "        # optimizer.step()                    #----> weights update\n",
        "\n",
        "        # print statistics\n",
        "        val_loss += loss.item()\n",
        "        # print(i,\" \",loss.item())\n",
        "        \n",
        "        pred = torch.argmax(outputs,dim=1)\n",
        "        correct = (pred==labels).float().sum()\n",
        "        # print(correct)\n",
        "        accuracy = correct*100/inputs.shape[0]\n",
        "        val_accuracy += correct\n",
        "        \n",
        "        pbar.set_description(\n",
        "            'Validation Epoch: {} [{}/{} ({:.0f}%)]\\tLoss: {:.6f}\\tAccuracy: {:.1f}%'.format(\n",
        "                epoch, i * len(inputs), len(valloader.dataset),\n",
        "                100. * i / len(valloader),\n",
        "                loss.data.item(),accuracy),refresh=False)\n",
        "        \n",
        "    print(\"\\nValidation Loss of Epoch \",epoch,\" is :\",val_loss)\n",
        "    acc = val_accuracy*100/len(valloader.dataset)\n",
        "    print(\"Validation Accuracy of Epoch \",epoch,\" is :\",acc.item(),\"\\n\\n\")\n",
        "\n",
        "    epoch_vloss.append(val_loss)\n",
        "    epoch_vacc.append(acc.item())\n",
        "\n",
        "    if val_loss < val_loss_min:\n",
        "        checkpoint = {\n",
        "                'epoch': epoch + 1,\n",
        "                'valid_loss_min': val_loss,\n",
        "                'state_dict': model.state_dict(),\n",
        "                'optimizer': optimizer.state_dict(),\n",
        "            }\n",
        "\n",
        "        val_loss_min = val_loss\n",
        "        # save_ckp(checkpoint, False, checkpoint_path, best_model_path)\n",
        "\n",
        "\n",
        "            # pbar.update()\n",
        "            # pbar()\n",
        "        torch.save(checkpoint, os.path.join(path,'vgg16_ft_{:.2f}_{:.2f}_{}.pth'.format(acc,loss,epoch)))\n",
        "\n",
        "    delta = abs(acc.item() - val_acc_prev)\n",
        "    val_acc_prev = acc.item()\n",
        "\n",
        "    if (delta < 0.4)and(lr<0.1):\n",
        "        lr = lr*10\n",
        "        optimizer = optim.SGD(model.parameters(), lr=lr, momentum=0.9)\n",
        "    \n",
        "print('Finished Training')"
      ],
      "execution_count": 0,
      "outputs": [
        {
          "output_type": "stream",
          "text": [
            "0it [00:00, ?it/s]/usr/local/lib/python3.6/dist-packages/ipykernel_launcher.py:55: UserWarning: Implicit dimension choice for softmax has been deprecated. Change the call to include dim=X as an argument.\n",
            "Train Epoch: 0 [464/3716 (99%)]\tLoss: 0.585611\tAccuracy: 75.0%: : 117it [02:03,  1.06s/it]\n",
            "0it [00:00, ?it/s]"
          ],
          "name": "stderr"
        },
        {
          "output_type": "stream",
          "text": [
            "\n",
            "Training Loss of Epoch  0  is : 75.77980092167854\n",
            "Training Accuracy of Epoch  0  is : 61.30247497558594 \n",
            "\n",
            "\n"
          ],
          "name": "stdout"
        },
        {
          "output_type": "stream",
          "text": [
            "Validation Epoch: 0 [1288/1500 (98%)]\tLoss: 0.567216\tAccuracy: 67.9%: : 47it [00:29,  1.60it/s]\n",
            "0it [00:00, ?it/s]"
          ],
          "name": "stderr"
        },
        {
          "output_type": "stream",
          "text": [
            "\n",
            "Validation Loss of Epoch  0  is : 28.526807487010956\n",
            "Validation Accuracy of Epoch  0  is : 61.133331298828125 \n",
            "\n",
            "\n"
          ],
          "name": "stdout"
        },
        {
          "output_type": "stream",
          "text": [
            "Train Epoch: 1 [464/3716 (99%)]\tLoss: 0.398573\tAccuracy: 100.0%: : 117it [02:05,  1.07s/it]\n",
            "0it [00:00, ?it/s]"
          ],
          "name": "stderr"
        },
        {
          "output_type": "stream",
          "text": [
            "\n",
            "Training Loss of Epoch  1  is : 67.44806763529778\n",
            "Training Accuracy of Epoch  1  is : 69.9407958984375 \n",
            "\n",
            "\n"
          ],
          "name": "stdout"
        },
        {
          "output_type": "stream",
          "text": [
            "Validation Epoch: 1 [1288/1500 (98%)]\tLoss: 0.617502\tAccuracy: 64.3%: : 47it [00:29,  1.58it/s]\n"
          ],
          "name": "stderr"
        },
        {
          "output_type": "stream",
          "text": [
            "\n",
            "Validation Loss of Epoch  1  is : 25.66409146785736\n",
            "Validation Accuracy of Epoch  1  is : 73.86666870117188 \n",
            "\n",
            "\n"
          ],
          "name": "stdout"
        },
        {
          "output_type": "stream",
          "text": [
            "Train Epoch: 2 [464/3716 (99%)]\tLoss: 0.552303\tAccuracy: 75.0%: : 117it [02:07,  1.09s/it]\n",
            "0it [00:00, ?it/s]"
          ],
          "name": "stderr"
        },
        {
          "output_type": "stream",
          "text": [
            "\n",
            "Training Loss of Epoch  2  is : 60.158972561359406\n",
            "Training Accuracy of Epoch  2  is : 78.33692169189453 \n",
            "\n",
            "\n"
          ],
          "name": "stdout"
        },
        {
          "output_type": "stream",
          "text": [
            "Validation Epoch: 2 [1288/1500 (98%)]\tLoss: 0.469566\tAccuracy: 71.4%: : 47it [00:30,  1.57it/s]\n",
            "0it [00:00, ?it/s]"
          ],
          "name": "stderr"
        },
        {
          "output_type": "stream",
          "text": [
            "\n",
            "Validation Loss of Epoch  2  is : 23.012985736131668\n",
            "Validation Accuracy of Epoch  2  is : 79.73332977294922 \n",
            "\n",
            "\n"
          ],
          "name": "stdout"
        },
        {
          "output_type": "stream",
          "text": [
            "Train Epoch: 3 [464/3716 (99%)]\tLoss: 0.570835\tAccuracy: 50.0%: : 117it [02:07,  1.09s/it]\n",
            "0it [00:00, ?it/s]"
          ],
          "name": "stderr"
        },
        {
          "output_type": "stream",
          "text": [
            "\n",
            "Training Loss of Epoch  3  is : 53.188664615154266\n",
            "Training Accuracy of Epoch  3  is : 82.72335815429688 \n",
            "\n",
            "\n"
          ],
          "name": "stdout"
        },
        {
          "output_type": "stream",
          "text": [
            "Validation Epoch: 3 [1288/1500 (98%)]\tLoss: 0.341001\tAccuracy: 85.7%: : 47it [00:29,  1.57it/s]\n",
            "0it [00:00, ?it/s]"
          ],
          "name": "stderr"
        },
        {
          "output_type": "stream",
          "text": [
            "\n",
            "Validation Loss of Epoch  3  is : 20.823979169130325\n",
            "Validation Accuracy of Epoch  3  is : 82.53333282470703 \n",
            "\n",
            "\n"
          ],
          "name": "stdout"
        },
        {
          "output_type": "stream",
          "text": [
            "Train Epoch: 4 [464/3716 (99%)]\tLoss: 0.284490\tAccuracy: 100.0%: : 117it [02:06,  1.08s/it]\n",
            "0it [00:00, ?it/s]"
          ],
          "name": "stderr"
        },
        {
          "output_type": "stream",
          "text": [
            "\n",
            "Training Loss of Epoch  4  is : 48.39044734835625\n",
            "Training Accuracy of Epoch  4  is : 83.93433380126953 \n",
            "\n",
            "\n"
          ],
          "name": "stdout"
        },
        {
          "output_type": "stream",
          "text": [
            "Validation Epoch: 4 [1288/1500 (98%)]\tLoss: 0.373709\tAccuracy: 85.7%: : 47it [00:29,  1.58it/s]\n",
            "0it [00:00, ?it/s]"
          ],
          "name": "stderr"
        },
        {
          "output_type": "stream",
          "text": [
            "\n",
            "Validation Loss of Epoch  4  is : 19.43631738424301\n",
            "Validation Accuracy of Epoch  4  is : 82.79999542236328 \n",
            "\n",
            "\n"
          ],
          "name": "stdout"
        },
        {
          "output_type": "stream",
          "text": [
            "Train Epoch: 5 [464/3716 (99%)]\tLoss: 0.685633\tAccuracy: 50.0%: : 117it [02:09,  1.10s/it]\n",
            "0it [00:00, ?it/s]"
          ],
          "name": "stderr"
        },
        {
          "output_type": "stream",
          "text": [
            "\n",
            "Training Loss of Epoch  5  is : 41.375961273908615\n",
            "Training Accuracy of Epoch  5  is : 86.14100646972656 \n",
            "\n",
            "\n"
          ],
          "name": "stdout"
        },
        {
          "output_type": "stream",
          "text": [
            "Validation Epoch: 5 [1288/1500 (98%)]\tLoss: 0.202560\tAccuracy: 89.3%: : 47it [00:30,  1.56it/s]\n",
            "0it [00:00, ?it/s]"
          ],
          "name": "stderr"
        },
        {
          "output_type": "stream",
          "text": [
            "\n",
            "Validation Loss of Epoch  5  is : 15.684556245803833\n",
            "Validation Accuracy of Epoch  5  is : 86.19999694824219 \n",
            "\n",
            "\n"
          ],
          "name": "stdout"
        },
        {
          "output_type": "stream",
          "text": [
            "Train Epoch: 6 [464/3716 (99%)]\tLoss: 0.053980\tAccuracy: 100.0%: : 117it [02:08,  1.10s/it]\n",
            "0it [00:00, ?it/s]"
          ],
          "name": "stderr"
        },
        {
          "output_type": "stream",
          "text": [
            "\n",
            "Training Loss of Epoch  6  is : 34.200719341635704\n",
            "Training Accuracy of Epoch  6  is : 88.50914764404297 \n",
            "\n",
            "\n"
          ],
          "name": "stdout"
        },
        {
          "output_type": "stream",
          "text": [
            "Validation Epoch: 6 [1288/1500 (98%)]\tLoss: 0.277982\tAccuracy: 89.3%: : 47it [00:30,  1.56it/s]\n",
            "0it [00:00, ?it/s]"
          ],
          "name": "stderr"
        },
        {
          "output_type": "stream",
          "text": [
            "\n",
            "Validation Loss of Epoch  6  is : 15.205866113305092\n",
            "Validation Accuracy of Epoch  6  is : 87.19999694824219 \n",
            "\n",
            "\n"
          ],
          "name": "stdout"
        },
        {
          "output_type": "stream",
          "text": [
            "Train Epoch: 7 [464/3716 (99%)]\tLoss: 0.090906\tAccuracy: 100.0%: : 117it [02:07,  1.09s/it]\n",
            "0it [00:00, ?it/s]"
          ],
          "name": "stderr"
        },
        {
          "output_type": "stream",
          "text": [
            "\n",
            "Training Loss of Epoch  7  is : 29.496006913483143\n",
            "Training Accuracy of Epoch  7  is : 90.50053405761719 \n",
            "\n",
            "\n"
          ],
          "name": "stdout"
        },
        {
          "output_type": "stream",
          "text": [
            "Validation Epoch: 7 [1288/1500 (98%)]\tLoss: 0.362831\tAccuracy: 82.1%: : 47it [00:30,  1.56it/s]\n"
          ],
          "name": "stderr"
        },
        {
          "output_type": "stream",
          "text": [
            "\n",
            "Validation Loss of Epoch  7  is : 13.579499527812004\n",
            "Validation Accuracy of Epoch  7  is : 87.5999984741211 \n",
            "\n",
            "\n"
          ],
          "name": "stdout"
        },
        {
          "output_type": "stream",
          "text": [
            "Train Epoch: 8 [464/3716 (99%)]\tLoss: 0.025103\tAccuracy: 100.0%: : 117it [02:07,  1.09s/it]\n",
            "0it [00:00, ?it/s]"
          ],
          "name": "stderr"
        },
        {
          "output_type": "stream",
          "text": [
            "\n",
            "Training Loss of Epoch  8  is : 27.3598687723279\n",
            "Training Accuracy of Epoch  8  is : 90.87728881835938 \n",
            "\n",
            "\n"
          ],
          "name": "stdout"
        },
        {
          "output_type": "stream",
          "text": [
            "Validation Epoch: 8 [1288/1500 (98%)]\tLoss: 0.221842\tAccuracy: 92.9%: : 47it [00:30,  1.56it/s]\n",
            "0it [00:00, ?it/s]"
          ],
          "name": "stderr"
        },
        {
          "output_type": "stream",
          "text": [
            "\n",
            "Validation Loss of Epoch  8  is : 12.850800313055515\n",
            "Validation Accuracy of Epoch  8  is : 88.5999984741211 \n",
            "\n",
            "\n"
          ],
          "name": "stdout"
        },
        {
          "output_type": "stream",
          "text": [
            "Train Epoch: 9 [464/3716 (99%)]\tLoss: 0.592223\tAccuracy: 75.0%: : 117it [02:07,  1.09s/it]\n",
            "0it [00:00, ?it/s]"
          ],
          "name": "stderr"
        },
        {
          "output_type": "stream",
          "text": [
            "\n",
            "Training Loss of Epoch  9  is : 26.122021086513996\n",
            "Training Accuracy of Epoch  9  is : 91.71151733398438 \n",
            "\n",
            "\n"
          ],
          "name": "stdout"
        },
        {
          "output_type": "stream",
          "text": [
            "Validation Epoch: 9 [1288/1500 (98%)]\tLoss: 0.323805\tAccuracy: 85.7%: : 47it [00:30,  1.55it/s]\n",
            "0it [00:00, ?it/s]"
          ],
          "name": "stderr"
        },
        {
          "output_type": "stream",
          "text": [
            "\n",
            "Validation Loss of Epoch  9  is : 12.475084632635117\n",
            "Validation Accuracy of Epoch  9  is : 88.66666412353516 \n",
            "\n",
            "\n"
          ],
          "name": "stdout"
        },
        {
          "output_type": "stream",
          "text": [
            "Train Epoch: 10 [464/3716 (99%)]\tLoss: 0.272903\tAccuracy: 75.0%: : 117it [02:08,  1.10s/it]\n",
            "0it [00:00, ?it/s]"
          ],
          "name": "stderr"
        },
        {
          "output_type": "stream",
          "text": [
            "\n",
            "Training Loss of Epoch  10  is : 29.514517337083817\n",
            "Training Accuracy of Epoch  10  is : 90.20452117919922 \n",
            "\n",
            "\n"
          ],
          "name": "stdout"
        },
        {
          "output_type": "stream",
          "text": [
            "Validation Epoch: 10 [1288/1500 (98%)]\tLoss: 0.319358\tAccuracy: 85.7%: : 47it [00:30,  1.55it/s]\n",
            "0it [00:00, ?it/s]"
          ],
          "name": "stderr"
        },
        {
          "output_type": "stream",
          "text": [
            "\n",
            "Validation Loss of Epoch  10  is : 12.158783569931984\n",
            "Validation Accuracy of Epoch  10  is : 89.66666412353516 \n",
            "\n",
            "\n"
          ],
          "name": "stdout"
        },
        {
          "output_type": "stream",
          "text": [
            "Train Epoch: 11 [464/3716 (99%)]\tLoss: 0.052940\tAccuracy: 100.0%: : 117it [02:08,  1.10s/it]\n",
            "0it [00:00, ?it/s]"
          ],
          "name": "stderr"
        },
        {
          "output_type": "stream",
          "text": [
            "\n",
            "Training Loss of Epoch  11  is : 26.177328623831272\n",
            "Training Accuracy of Epoch  11  is : 91.38858795166016 \n",
            "\n",
            "\n"
          ],
          "name": "stdout"
        },
        {
          "output_type": "stream",
          "text": [
            "Validation Epoch: 11 [1288/1500 (98%)]\tLoss: 0.176178\tAccuracy: 92.9%: : 47it [00:30,  1.55it/s]\n"
          ],
          "name": "stderr"
        },
        {
          "output_type": "stream",
          "text": [
            "\n",
            "Validation Loss of Epoch  11  is : 11.49648666381836\n",
            "Validation Accuracy of Epoch  11  is : 89.73332977294922 \n",
            "\n",
            "\n"
          ],
          "name": "stdout"
        },
        {
          "output_type": "stream",
          "text": [
            "Train Epoch: 12 [464/3716 (99%)]\tLoss: 0.638568\tAccuracy: 75.0%: : 117it [02:08,  1.10s/it]\n",
            "0it [00:00, ?it/s]"
          ],
          "name": "stderr"
        },
        {
          "output_type": "stream",
          "text": [
            "\n",
            "Training Loss of Epoch  12  is : 44.4586790651083\n",
            "Training Accuracy of Epoch  12  is : 84.9300308227539 \n",
            "\n",
            "\n"
          ],
          "name": "stdout"
        },
        {
          "output_type": "stream",
          "text": [
            "Validation Epoch: 12 [1288/1500 (98%)]\tLoss: 0.493858\tAccuracy: 71.4%: : 47it [00:30,  1.55it/s]\n",
            "0it [00:00, ?it/s]"
          ],
          "name": "stderr"
        },
        {
          "output_type": "stream",
          "text": [
            "\n",
            "Validation Loss of Epoch  12  is : 18.587394282221794\n",
            "Validation Accuracy of Epoch  12  is : 80.66666412353516 \n",
            "\n",
            "\n"
          ],
          "name": "stdout"
        },
        {
          "output_type": "stream",
          "text": [
            "Train Epoch: 13 [464/3716 (99%)]\tLoss: 0.275748\tAccuracy: 75.0%: : 117it [02:05,  1.07s/it]\n",
            "0it [00:00, ?it/s]"
          ],
          "name": "stderr"
        },
        {
          "output_type": "stream",
          "text": [
            "\n",
            "Training Loss of Epoch  13  is : 36.794055208563805\n",
            "Training Accuracy of Epoch  13  is : 87.75564575195312 \n",
            "\n",
            "\n"
          ],
          "name": "stdout"
        },
        {
          "output_type": "stream",
          "text": [
            "Validation Epoch: 13 [1288/1500 (98%)]\tLoss: 0.201718\tAccuracy: 92.9%: : 47it [00:29,  1.58it/s]\n",
            "0it [00:00, ?it/s]"
          ],
          "name": "stderr"
        },
        {
          "output_type": "stream",
          "text": [
            "\n",
            "Validation Loss of Epoch  13  is : 12.42156833410263\n",
            "Validation Accuracy of Epoch  13  is : 88.66666412353516 \n",
            "\n",
            "\n"
          ],
          "name": "stdout"
        },
        {
          "output_type": "stream",
          "text": [
            "Train Epoch: 14 [464/3716 (99%)]\tLoss: 0.315154\tAccuracy: 75.0%: : 117it [02:05,  1.08s/it]\n",
            "0it [00:00, ?it/s]"
          ],
          "name": "stderr"
        },
        {
          "output_type": "stream",
          "text": [
            "\n",
            "Training Loss of Epoch  14  is : 32.00921990349889\n",
            "Training Accuracy of Epoch  14  is : 90.04305267333984 \n",
            "\n",
            "\n"
          ],
          "name": "stdout"
        },
        {
          "output_type": "stream",
          "text": [
            "Validation Epoch: 14 [1288/1500 (98%)]\tLoss: 0.140058\tAccuracy: 92.9%: : 47it [00:29,  1.58it/s]\n",
            "0it [00:00, ?it/s]"
          ],
          "name": "stderr"
        },
        {
          "output_type": "stream",
          "text": [
            "\n",
            "Validation Loss of Epoch  14  is : 11.74388950318098\n",
            "Validation Accuracy of Epoch  14  is : 89.26666259765625 \n",
            "\n",
            "\n"
          ],
          "name": "stdout"
        },
        {
          "output_type": "stream",
          "text": [
            "Train Epoch: 15 [464/3716 (99%)]\tLoss: 0.205531\tAccuracy: 75.0%: : 117it [02:05,  1.08s/it]\n",
            "0it [00:00, ?it/s]"
          ],
          "name": "stderr"
        },
        {
          "output_type": "stream",
          "text": [
            "\n",
            "Training Loss of Epoch  15  is : 29.47081844136119\n",
            "Training Accuracy of Epoch  15  is : 90.28524780273438 \n",
            "\n",
            "\n"
          ],
          "name": "stdout"
        },
        {
          "output_type": "stream",
          "text": [
            "Validation Epoch: 15 [1288/1500 (98%)]\tLoss: 0.308966\tAccuracy: 85.7%: : 47it [00:29,  1.58it/s]\n",
            "0it [00:00, ?it/s]"
          ],
          "name": "stderr"
        },
        {
          "output_type": "stream",
          "text": [
            "\n",
            "Validation Loss of Epoch  15  is : 12.133703902363777\n",
            "Validation Accuracy of Epoch  15  is : 88.79999542236328 \n",
            "\n",
            "\n"
          ],
          "name": "stdout"
        },
        {
          "output_type": "stream",
          "text": [
            "Train Epoch: 16 [464/3716 (99%)]\tLoss: 0.676500\tAccuracy: 75.0%: : 117it [02:06,  1.08s/it]\n",
            "0it [00:00, ?it/s]"
          ],
          "name": "stderr"
        },
        {
          "output_type": "stream",
          "text": [
            "\n",
            "Training Loss of Epoch  16  is : 25.41735451668501\n",
            "Training Accuracy of Epoch  16  is : 91.98062133789062 \n",
            "\n",
            "\n"
          ],
          "name": "stdout"
        },
        {
          "output_type": "stream",
          "text": [
            "Validation Epoch: 16 [1288/1500 (98%)]\tLoss: 0.417651\tAccuracy: 85.7%: : 47it [00:29,  1.58it/s]\n",
            "0it [00:00, ?it/s]"
          ],
          "name": "stderr"
        },
        {
          "output_type": "stream",
          "text": [
            "\n",
            "Validation Loss of Epoch  16  is : 12.809466324746609\n",
            "Validation Accuracy of Epoch  16  is : 89.73332977294922 \n",
            "\n",
            "\n"
          ],
          "name": "stdout"
        },
        {
          "output_type": "stream",
          "text": [
            "Train Epoch: 17 [464/3716 (99%)]\tLoss: 0.106018\tAccuracy: 100.0%: : 117it [02:07,  1.09s/it]\n",
            "0it [00:00, ?it/s]"
          ],
          "name": "stderr"
        },
        {
          "output_type": "stream",
          "text": [
            "\n",
            "Training Loss of Epoch  17  is : 27.16258654743433\n",
            "Training Accuracy of Epoch  17  is : 91.6576919555664 \n",
            "\n",
            "\n"
          ],
          "name": "stdout"
        },
        {
          "output_type": "stream",
          "text": [
            "Validation Epoch: 17 [1288/1500 (98%)]\tLoss: 0.379210\tAccuracy: 89.3%: : 47it [00:30,  1.55it/s]\n",
            "0it [00:00, ?it/s]"
          ],
          "name": "stderr"
        },
        {
          "output_type": "stream",
          "text": [
            "\n",
            "Validation Loss of Epoch  17  is : 13.047089967876673\n",
            "Validation Accuracy of Epoch  17  is : 88.93333435058594 \n",
            "\n",
            "\n"
          ],
          "name": "stdout"
        },
        {
          "output_type": "stream",
          "text": [
            "Train Epoch: 18 [464/3716 (99%)]\tLoss: 0.042318\tAccuracy: 100.0%: : 117it [02:08,  1.10s/it]\n",
            "0it [00:00, ?it/s]"
          ],
          "name": "stderr"
        },
        {
          "output_type": "stream",
          "text": [
            "\n",
            "Training Loss of Epoch  18  is : 27.080859050154686\n",
            "Training Accuracy of Epoch  18  is : 91.63078308105469 \n",
            "\n",
            "\n"
          ],
          "name": "stdout"
        },
        {
          "output_type": "stream",
          "text": [
            "Validation Epoch: 18 [1288/1500 (98%)]\tLoss: 0.138097\tAccuracy: 96.4%: : 47it [00:30,  1.55it/s]\n",
            "0it [00:00, ?it/s]"
          ],
          "name": "stderr"
        },
        {
          "output_type": "stream",
          "text": [
            "\n",
            "Validation Loss of Epoch  18  is : 14.189242511987686\n",
            "Validation Accuracy of Epoch  18  is : 88.93333435058594 \n",
            "\n",
            "\n"
          ],
          "name": "stdout"
        },
        {
          "output_type": "stream",
          "text": [
            "Train Epoch: 19 [464/3716 (99%)]\tLoss: nan\tAccuracy: 0.0%: : 117it [02:04,  1.06s/it]\n",
            "0it [00:00, ?it/s]"
          ],
          "name": "stderr"
        },
        {
          "output_type": "stream",
          "text": [
            "\n",
            "Training Loss of Epoch  19  is : nan\n",
            "Training Accuracy of Epoch  19  is : 43.05704879760742 \n",
            "\n",
            "\n"
          ],
          "name": "stdout"
        },
        {
          "output_type": "stream",
          "text": [
            "Validation Epoch: 19 [1288/1500 (98%)]\tLoss: nan\tAccuracy: 50.0%: : 47it [00:29,  1.57it/s]\n",
            "0it [00:00, ?it/s]"
          ],
          "name": "stderr"
        },
        {
          "output_type": "stream",
          "text": [
            "\n",
            "Validation Loss of Epoch  19  is : nan\n",
            "Validation Accuracy of Epoch  19  is : 41.0 \n",
            "\n",
            "\n"
          ],
          "name": "stdout"
        },
        {
          "output_type": "stream",
          "text": [
            "Train Epoch: 20 [464/3716 (99%)]\tLoss: nan\tAccuracy: 50.0%: : 117it [02:04,  1.06s/it]\n",
            "0it [00:00, ?it/s]"
          ],
          "name": "stderr"
        },
        {
          "output_type": "stream",
          "text": [
            "\n",
            "Training Loss of Epoch  20  is : nan\n",
            "Training Accuracy of Epoch  20  is : 41.8998908996582 \n",
            "\n",
            "\n"
          ],
          "name": "stdout"
        },
        {
          "output_type": "stream",
          "text": [
            "Validation Epoch: 20 [1288/1500 (98%)]\tLoss: nan\tAccuracy: 42.9%: : 47it [00:29,  1.57it/s]\n",
            "0it [00:00, ?it/s]"
          ],
          "name": "stderr"
        },
        {
          "output_type": "stream",
          "text": [
            "\n",
            "Validation Loss of Epoch  20  is : nan\n",
            "Validation Accuracy of Epoch  20  is : 41.0 \n",
            "\n",
            "\n"
          ],
          "name": "stdout"
        },
        {
          "output_type": "stream",
          "text": [
            "Train Epoch: 21 [2208/3716 (59%)]\tLoss: nan\tAccuracy: 37.5%: : 70it [01:14,  1.06s/it]"
          ],
          "name": "stderr"
        },
        {
          "output_type": "error",
          "ename": "KeyboardInterrupt",
          "evalue": "ignored",
          "traceback": [
            "\u001b[0;31m---------------------------------------------------------------------------\u001b[0m",
            "\u001b[0;31mKeyboardInterrupt\u001b[0m                         Traceback (most recent call last)",
            "\u001b[0;32m<ipython-input-9-d2d8abbc4edc>\u001b[0m in \u001b[0;36m<module>\u001b[0;34m()\u001b[0m\n\u001b[1;32m     51\u001b[0m \u001b[0;34m\u001b[0m\u001b[0m\n\u001b[1;32m     52\u001b[0m         \u001b[0;31m# print statistics\u001b[0m\u001b[0;34m\u001b[0m\u001b[0;34m\u001b[0m\u001b[0;34m\u001b[0m\u001b[0m\n\u001b[0;32m---> 53\u001b[0;31m         \u001b[0mrunning_loss\u001b[0m \u001b[0;34m+=\u001b[0m \u001b[0mloss\u001b[0m\u001b[0;34m.\u001b[0m\u001b[0mitem\u001b[0m\u001b[0;34m(\u001b[0m\u001b[0;34m)\u001b[0m\u001b[0;34m\u001b[0m\u001b[0;34m\u001b[0m\u001b[0m\n\u001b[0m\u001b[1;32m     54\u001b[0m         \u001b[0;31m# print(i,\" \",loss.item())\u001b[0m\u001b[0;34m\u001b[0m\u001b[0;34m\u001b[0m\u001b[0;34m\u001b[0m\u001b[0m\n\u001b[1;32m     55\u001b[0m         \u001b[0mpred\u001b[0m \u001b[0;34m=\u001b[0m \u001b[0mtorch\u001b[0m\u001b[0;34m.\u001b[0m\u001b[0margmax\u001b[0m\u001b[0;34m(\u001b[0m\u001b[0mF\u001b[0m\u001b[0;34m.\u001b[0m\u001b[0msoftmax\u001b[0m\u001b[0;34m(\u001b[0m\u001b[0moutputs\u001b[0m\u001b[0;34m)\u001b[0m\u001b[0;34m,\u001b[0m\u001b[0mdim\u001b[0m\u001b[0;34m=\u001b[0m\u001b[0;36m1\u001b[0m\u001b[0;34m)\u001b[0m\u001b[0;34m\u001b[0m\u001b[0;34m\u001b[0m\u001b[0m\n",
            "\u001b[0;31mKeyboardInterrupt\u001b[0m: "
          ]
        }
      ]
    },
    {
      "cell_type": "markdown",
      "metadata": {
        "id": "gziMe0pDIQP3",
        "colab_type": "text"
      },
      "source": [
        "## EVALUATION"
      ]
    },
    {
      "cell_type": "code",
      "metadata": {
        "id": "GycayKWdISVi",
        "colab_type": "code",
        "colab": {}
      },
      "source": [
        "save_path= '/content/drive/My Drive/vgg_results'"
      ],
      "execution_count": 0,
      "outputs": []
    },
    {
      "cell_type": "markdown",
      "metadata": {
        "id": "oFBXh0lQH26g",
        "colab_type": "text"
      },
      "source": [
        "### Plot Loss and Accuracy Curves"
      ]
    },
    {
      "cell_type": "code",
      "metadata": {
        "id": "CbSB9QY1MzDb",
        "colab_type": "code",
        "outputId": "cbc26a00-cb65-41c9-bffa-a7f3eb370527",
        "colab": {
          "base_uri": "https://localhost:8080/",
          "height": 573
        }
      },
      "source": [
        "import os.path as osp\n",
        "\n",
        "# from matplotlib.ticker import MaxNLocator\n",
        "# Epochs=21\n",
        "## LOSS AND ACCURACY CURVES ##\n",
        "plt.figure()\n",
        "plt.plot(range(Epochs),np.array(epoch_tloss).reshape(Epochs),color='k',label='Train')\n",
        "plt.plot(range(Epochs),np.array(epoch_vloss).reshape(Epochs),color='b',label='Validation')\n",
        "\n",
        "# ax=plt.figure().gca()\n",
        "# ax.xaxis.set_major_locator(MaxNLocator(integer=True))\n",
        "\n",
        "plt.title('Loss Curves')\n",
        "plt.xlabel('epochs')\n",
        "plt.ylabel('Loss')\n",
        "plt.ylim(0,100)\n",
        "plt.xlim(1,50)\n",
        "# plt.xticks(range(1,22))\n",
        "plt.legend()\n",
        "\n",
        "plt.savefig(osp.join(save_path,'Loss Curves.png'),bbox_inches='tight')\n",
        "################ ACCURACY##################\n",
        "\n",
        "plt.figure()\n",
        "plt.plot(range(Epochs),epoch_tacc,color='k',label='Train')\n",
        "plt.plot(range(Epochs),epoch_vacc,color='b',label='Validation')\n",
        "plt.ylim(0,100)\n",
        "plt.xlim(1,50)\n",
        "# plt.xticks(range(1,22))\n",
        "\n",
        "plt.title('Accuracy Curves')\n",
        "plt.xlabel('epochs')\n",
        "plt.ylabel('Accuracy')\n",
        "plt.legend()\n",
        "\n",
        "plt.savefig(osp.join(save_path,'Accuracy Curves.png'),bbox_inches='tight')"
      ],
      "execution_count": 0,
      "outputs": [
        {
          "output_type": "display_data",
          "data": {
            "image/png": "[encoded data removed]",
            "text/plain": [
              "<Figure size 432x288 with 1 Axes>"
            ]
          },
          "metadata": {
            "tags": [],
            "needs_background": "light"
          }
        },
        {
          "output_type": "display_data",
          "data": {
            "image/png": "[encoded data removed]",
            "text/plain": [
              "<Figure size 432x288 with 1 Axes>"
            ]
          },
          "metadata": {
            "tags": [],
            "needs_background": "light"
          }
        }
      ]
    },
    {
      "cell_type": "markdown",
      "metadata": {
        "id": "AJ1ng0NjH7aZ",
        "colab_type": "text"
      },
      "source": [
        "### Evaluate"
      ]
    },
    {
      "cell_type": "code",
      "metadata": {
        "id": "KOTsqiI31LBZ",
        "colab_type": "code",
        "outputId": "59c318a1-4e3e-4680-a1c0-59dc648cec19",
        "colab": {
          "base_uri": "https://localhost:8080/",
          "height": 364
        }
      },
      "source": [
        "## CONFUSION MATRIX ##\n",
        "\n",
        "\n",
        "correct = 0\n",
        "total = 0\n",
        "predicted = []\n",
        "gt = []\n",
        "with torch.no_grad():\n",
        "    for data in testloader:\n",
        "        images, labels = data\n",
        "        images, labels = images.to(device), labels.to(device)\n",
        "        outputs = model(images)\n",
        "        pred = torch.argmax(outputs,dim=1)\n",
        "        correct += (pred==labels).float().sum()\n",
        "        \n",
        "        predicted.extend(torch.Tensor.cpu(pred).numpy())\n",
        "        gt.extend(torch.Tensor.cpu(labels).numpy())\n",
        "        # _, predicted = torch.max(outputs.data, 1)\n",
        "        total += labels.size(0)\n",
        "        # correct += (pred == labels).sum().item()\n",
        "\n",
        "print('Accuracy of the network on the 10000 test images: %d %%' % (\n",
        "    100 * correct / total))\n",
        "\n",
        "\n",
        "from sklearn.metrics import confusion_matrix\n",
        "import pandas as pd\n",
        "import itertools\n",
        "\n",
        "# y_true = [2, 0, 2, 2, 0, 1]\n",
        "# y_pred = [0, 0, 2, 2, 0, 2]\n",
        "# out\n",
        "# pred=np.argmax(out,axis=1)\n",
        "cfm = confusion_matrix(gt, predicted)\n",
        "recall = cfm[1,1]/cfm[1,:].sum()\n",
        "precision = cfm[1,1]/cfm[:,1].sum()\n",
        "f1 = (2*precision*recall)/(precision+recall)\n",
        "print(\"F1 SCORE: \",f1)\n",
        "# cfm = pd.DataFrame(cfm,index=np.arange(10),columns=np.arange(10))\n",
        "# sns.heatmap(cfm,annot=True)\n",
        "\n",
        "def plot_confusion_matrix(cm, classes,\n",
        "                          normalize=False,\n",
        "                          title='Confusion matrix',\n",
        "                          cmap=plt.cm.Blues):\n",
        "    \"\"\"\n",
        "    This function prints and plots the confusion matrix.\n",
        "    Normalization can be applied by setting `normalize=True`.\n",
        "    \"\"\"\n",
        "    plt.imshow(cm, interpolation='nearest', cmap=cmap)\n",
        "    plt.title(title)\n",
        "    plt.colorbar()\n",
        "    tick_marks = np.arange(len(classes))\n",
        "    plt.xticks(tick_marks, classes, rotation=45)\n",
        "    plt.yticks(tick_marks, classes)\n",
        "\n",
        "    if normalize:\n",
        "        cm = cm.astype('float') / cm.sum(axis=1)[:, np.newaxis]\n",
        "        print(\"Normalized confusion matrix\")\n",
        "    else:\n",
        "        print('Confusion matrix, without normalization')\n",
        "\n",
        "#     print(cm)\n",
        "\n",
        "    thresh = cm.max() / 2.\n",
        "    for i, j in itertools.product(range(cm.shape[0]), range(cm.shape[1])):\n",
        "        plt.text(j, i, cm[i, j],\n",
        "                 horizontalalignment=\"center\",\n",
        "                 color=\"white\" if cm[i, j] > thresh else \"black\")\n",
        "\n",
        "    plt.tight_layout()\n",
        "    plt.ylabel('True label')\n",
        "    plt.xlabel('Predicted label')\n",
        "    \n",
        "plot_confusion_matrix(cfm, classes=np.arange(2))\n",
        "plt.savefig(osp.join(save_path,'cfm_train.png'),bbox_inches='tight')\n",
        "\n",
        "\n",
        "\n",
        "        \n"
      ],
      "execution_count": 0,
      "outputs": [
        {
          "output_type": "stream",
          "text": [
            "Accuracy of the network on the 10000 test images: 91 %\n",
            "F1 SCORE:  0.9340392675932053\n",
            "Confusion matrix, without normalization\n"
          ],
          "name": "stdout"
        },
        {
          "output_type": "display_data",
          "data": {
            "image/png": "[encoded data removed]",
            "text/plain": [
              "<Figure size 432x288 with 2 Axes>"
            ]
          },
          "metadata": {
            "tags": [],
            "needs_background": "light"
          }
        }
      ]
    }
  ]
}